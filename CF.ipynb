{
 "cells": [
  {
   "cell_type": "markdown",
   "metadata": {},
   "source": [
    "# 基于记忆的协同过滤"
   ]
  },
  {
   "cell_type": "code",
   "execution_count": 31,
   "metadata": {},
   "outputs": [
    {
     "name": "stdout",
     "output_type": "stream",
     "text": [
      "   user_id  item_id  rating  timestamp\n",
      "0      196      242       3  881250949\n",
      "1      186      302       3  891717742\n",
      "2       22      377       1  878887116\n",
      "3      244       51       2  880606923\n",
      "4      166      346       1  886397596\n",
      "(100000, 4)\n",
      "943\n",
      "1682\n",
      "(75000, 4)\n"
     ]
    }
   ],
   "source": [
    "import numpy as np\n",
    "import pandas as pd\n",
    "from sklearn.model_selection import train_test_split\n",
    "\n",
    "headers = ['user_id','item_id','rating','timestamp']\n",
    "df = pd.read_csv('C:/Users/xh/Desktop/practice/recommend/ml-100k/ml-100k/u.data',sep='\\t',names=headers)\n",
    "print(df.head())\n",
    "print(df.shape)\n",
    "n_user = df.user_id.unique().shape[0]\n",
    "n_item = df.item_id.unique().shape[0]\n",
    "print(n_user) #用户的人数\n",
    "print(n_item) #电影的数量\n",
    "\n",
    "#将数据分成训练集和测试集\n",
    "data_train,data_test = train_test_split(df,test_size=0.25)\n",
    "print(data_train.shape)"
   ]
  },
  {
   "cell_type": "markdown",
   "metadata": {},
   "source": [
    "协同过滤算法基于用户群已知的行为或者意见预测当前用户可能对那些感兴趣或者喜欢什么东西，主要有基于用户的近邻推荐和基于物品的近邻推荐。"
   ]
  },
  {
   "cell_type": "code",
   "execution_count": 20,
   "metadata": {},
   "outputs": [
    {
     "name": "stdout",
     "output_type": "stream",
     "text": [
      "   col1  col2\n",
      "a     1     3\n",
      "b     2     4\n",
      "Pandas(Index='a', col1=1, col2=3)\n",
      "Pandas(Index='b', col1=2, col2=4)\n"
     ]
    }
   ],
   "source": [
    "#插播一个dataframe的小应用\n",
    "df1 = pd.DataFrame({'col1':[1,2],'col2':[3,4]},index=['a','b'])\n",
    "print(df1)\n",
    "for line in df1.itertuples():\n",
    "    print(line)"
   ]
  },
  {
   "cell_type": "code",
   "execution_count": 36,
   "metadata": {},
   "outputs": [
    {
     "name": "stdout",
     "output_type": "stream",
     "text": [
      "[[5. 0. 4. ... 0. 0. 0.]\n",
      " [4. 0. 0. ... 0. 0. 0.]\n",
      " [0. 0. 0. ... 0. 0. 0.]\n",
      " ...\n",
      " [0. 0. 0. ... 0. 0. 0.]\n",
      " [0. 0. 0. ... 0. 0. 0.]\n",
      " [0. 5. 0. ... 0. 0. 0.]]\n",
      "[[0. 3. 0. ... 0. 0. 0.]\n",
      " [0. 0. 0. ... 0. 0. 0.]\n",
      " [0. 0. 0. ... 0. 0. 0.]\n",
      " ...\n",
      " [5. 0. 0. ... 0. 0. 0.]\n",
      " [0. 0. 0. ... 0. 0. 0.]\n",
      " [0. 0. 0. ... 0. 0. 0.]]\n"
     ]
    }
   ],
   "source": [
    "#创建两个user-item矩阵\n",
    "train_data_matrix = np.zeros((n_user,n_item))\n",
    "for line in data_train.itertuples():\n",
    "    train_data_matrix[line[1]-1,line[2]-1] = line[3]\n",
    "print(train_data_matrix)\n",
    "\n",
    "test_data_matrix = np.zeros((n_user,n_item))\n",
    "for line in data_test.itertuples():\n",
    "    test_data_matrix[line[1]-1,line[2]-1] = line[3]\n",
    "print(test_data_matrix)"
   ]
  },
  {
   "cell_type": "code",
   "execution_count": 39,
   "metadata": {},
   "outputs": [
    {
     "name": "stdout",
     "output_type": "stream",
     "text": [
      "[[0.         0.86509626 0.97821798 ... 0.89637033 0.87666829 0.7118622 ]\n",
      " [0.86509626 0.         0.94011952 ... 0.9032444  0.904754   0.91560008]\n",
      " [0.97821798 0.94011952 0.         ... 0.89536564 0.85516724 0.97971721]\n",
      " ...\n",
      " [0.89637033 0.9032444  0.89536564 ... 0.         0.94101158 0.89996558]\n",
      " [0.87666829 0.904754   0.85516724 ... 0.94101158 0.         0.86778768]\n",
      " [0.7118622  0.91560008 0.97971721 ... 0.89996558 0.86778768 0.        ]]\n"
     ]
    }
   ],
   "source": [
    "#使用sklearn的pairwise_distances函数来计算余弦相似性\n",
    "from sklearn.metrics.pairwise import pairwise_distances\n",
    "user_similarity = pairwise_distances(train_data_matrix,metric='cosine')\n",
    "item_similarity = pairwise_distances(train_data_matrix.T,metric='cosine')\n",
    "print(user_similarity)"
   ]
  },
  {
   "cell_type": "code",
   "execution_count": 52,
   "metadata": {},
   "outputs": [
    {
     "name": "stdout",
     "output_type": "stream",
     "text": [
      "[1 2 3 4]\n",
      "<class 'numpy.ndarray'>\n",
      "(4,)\n",
      "[[1]\n",
      " [2]\n",
      " [3]\n",
      " [4]]\n",
      "(4, 1)\n",
      "[[5. 0. 4. ... 0. 0. 0.]\n",
      " [4. 0. 0. ... 0. 0. 0.]\n",
      " [0. 0. 0. ... 0. 0. 0.]\n",
      " [0. 0. 0. ... 0. 0. 0.]\n",
      " [0. 3. 0. ... 0. 0. 0.]]\n",
      "[1.8 0.6 0.8 ... 0.  0.  0. ]\n",
      "[0.44946492 0.08799049 0.0665874  0.04934602 0.23186683]\n"
     ]
    }
   ],
   "source": [
    "#插播一个关于numpy的小技巧\n",
    "#np.newaxis 为np.array增加一个轴\n",
    "a = np.array([1,2,3,4])\n",
    "print(a)\n",
    "print(type(a))\n",
    "print(a.shape)\n",
    "b = a[:,np.newaxis]\n",
    "print(b)\n",
    "print(b.shape)\n",
    "c = train_data_matrix[0:5,:]\n",
    "print(c)\n",
    "d = c.mean(axis=0)\n",
    "print(d)\n",
    "e= c.mean(axis=1)\n",
    "print(e)"
   ]
  },
  {
   "cell_type": "code",
   "execution_count": 57,
   "metadata": {},
   "outputs": [
    {
     "name": "stdout",
     "output_type": "stream",
     "text": [
      "[[0.37428744 0.39323392 0.40154356 ... 0.45273492 0.44260734 0.4497323 ]\n",
      " [0.07285509 0.08603074 0.08163388 ... 0.08690435 0.08796365 0.08804283]\n",
      " [0.06417031 0.06685116 0.06514708 ... 0.0634154  0.06601075 0.06662701]\n",
      " ...\n",
      " [0.03523288 0.04075903 0.03985707 ... 0.04623236 0.04448374 0.04580607]\n",
      " [0.12793952 0.13734876 0.14552423 ... 0.15280284 0.15058598 0.15288519]\n",
      " [0.21235346 0.20660323 0.22897844 ... 0.26478531 0.25522284 0.26234384]]\n"
     ]
    }
   ],
   "source": [
    "#进行预测\n",
    "def predict(ratings,similarity,type='user'):\n",
    "    if type == 'user':\n",
    "        mean_user_ratings = ratings.mean(axis=1)\n",
    "        rating_diff = (ratings - mean_user_ratings[:,np.newaxis])\n",
    "        pred = mean_user_ratings[:,np.newaxis]+similarity.dot(rating_diff)/np.array([np.abs(similarity).sum(axis=1)]).T\n",
    "    elif type =='item':\n",
    "        pred = ratings.dot(similarity) / np.array([np.abs(similarity).sum(axis=1)])  \n",
    "    return pred\n",
    "\n",
    "user_pred = predict(train_data_matrix,user_similarity,type='user')\n",
    "item_pred = predict(train_data_matrix,item_similarity,type='item')\n",
    "print(item_pred)\n",
    "# print(user_pred)\n",
    "        "
   ]
  },
  {
   "cell_type": "code",
   "execution_count": 58,
   "metadata": {},
   "outputs": [
    {
     "name": "stdout",
     "output_type": "stream",
     "text": [
      "[0.58701973 0.7854831  0.50920578 ... 0.19898768 0.39187477 0.18963852]\n",
      "User-based CF RMSE: 3.124426377807664\n",
      "[0.39323392 0.37936314 0.40813701 ... 0.24179455 0.22910732 0.23097784]\n",
      "Item-based CF RMSE: 3.451103857051907\n"
     ]
    }
   ],
   "source": [
    "#进行评估，有许多评价指标，但其中最受欢迎的用来度量预测评分的准确性的指标是均方根误差 (RMSE)。\n",
    "from sklearn.metrics import mean_squared_error\n",
    "from math import sqrt\n",
    "def rmse(prediction, ground_truth):\n",
    "    prediction = prediction[ground_truth.nonzero()].flatten()\n",
    "    print(prediction)\n",
    "    ground_truth = ground_truth[ground_truth.nonzero()].flatten()\n",
    "    return sqrt(mean_squared_error(prediction, ground_truth))\n",
    "\n",
    "print('User-based CF RMSE: ' + str(rmse(user_pred, test_data_matrix))) \n",
    "print ('Item-based CF RMSE: ' + str(rmse(item_pred, test_data_matrix)))\n"
   ]
  },
  {
   "cell_type": "markdown",
   "metadata": {},
   "source": [
    "基于协同过滤算法面临着高稀疏度，增加了计算的复杂的，同时也存在冷启动的问题。"
   ]
  },
  {
   "cell_type": "markdown",
   "metadata": {},
   "source": [
    "# 基于模型的协同过滤"
   ]
  },
  {
   "cell_type": "markdown",
   "metadata": {},
   "source": [
    "基于模型的协同过滤是基于矩阵的分解（MF),主要是作为潜变量分解和降维的一个无监督的学习方法。MF的目标是从已知的评分中学习用户的潜在喜好和产品的潜在属性，随后通过用户和产品的潜在特征点击预测未来的评分。   \n",
    "一个总所周知的矩阵分解方法是奇异值分解（SVD），通过使用奇异值分解，协同过滤可以被一个近似的矩阵X所制定。\n",
    "一般的方程可以表示为：\n",
    "      X = U S V^T\n",
    "给定m x n矩阵X：\n",
    "U是一个(m x r)正交矩阵\n",
    "S是一个对角线上为非负实数的(r x r)对角矩阵\n",
    "V^T是一个(r x n)正交矩阵\n",
    "S的对角线上的元素被称为X的奇异值。"
   ]
  },
  {
   "cell_type": "code",
   "execution_count": 60,
   "metadata": {},
   "outputs": [
    {
     "name": "stdout",
     "output_type": "stream",
     "text": [
      "[1.77886524 2.53191209 0.37160699 ... 0.61575717 0.09898897 0.86870617]\n",
      "User-based CF MSE: 2.7151014349322584\n"
     ]
    }
   ],
   "source": [
    "from scipy.sparse.linalg import svds\n",
    "#get SVD components from train matrix. Choose k.\n",
    "u, s, vt = svds(train_data_matrix, k = 20)\n",
    "s_diag_matrix=np.diag(s)\n",
    "X_pred = np.dot(np.dot(u, s_diag_matrix), vt)\n",
    "print('User-based CF MSE: ' + str(rmse(X_pred, test_data_matrix))) "
   ]
  },
  {
   "cell_type": "code",
   "execution_count": null,
   "metadata": {
    "collapsed": true
   },
   "outputs": [],
   "source": []
  }
 ],
 "metadata": {
  "kernelspec": {
   "display_name": "Python 3",
   "language": "python",
   "name": "python3"
  },
  "language_info": {
   "codemirror_mode": {
    "name": "ipython",
    "version": 3
   },
   "file_extension": ".py",
   "mimetype": "text/x-python",
   "name": "python",
   "nbconvert_exporter": "python",
   "pygments_lexer": "ipython3",
   "version": "3.6.1"
  }
 },
 "nbformat": 4,
 "nbformat_minor": 2
}
